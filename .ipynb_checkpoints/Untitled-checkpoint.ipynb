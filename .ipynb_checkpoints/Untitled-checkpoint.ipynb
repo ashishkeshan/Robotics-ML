{
 "cells": [
  {
   "cell_type": "code",
   "execution_count": 1,
   "metadata": {},
   "outputs": [],
   "source": [
    "import numpy as np "
   ]
  },
  {
   "cell_type": "code",
   "execution_count": 3,
   "metadata": {},
   "outputs": [],
   "source": [
    "import pandas as pd\n",
    "import matplotlib.pyplot as pyplot\n",
    "import seaborn as sns"
   ]
  },
  {
   "cell_type": "code",
   "execution_count": 4,
   "metadata": {},
   "outputs": [],
   "source": [
    "%matplotlib inline"
   ]
  },
  {
   "cell_type": "code",
   "execution_count": 11,
   "metadata": {},
   "outputs": [],
   "source": [
    "data = pd.read_csv(\"data.csv\", error_bad_lines=False)"
   ]
  },
  {
   "cell_type": "code",
   "execution_count": 22,
   "metadata": {},
   "outputs": [],
   "source": [
    "data.columns = [\"chain\", \"chain category\", \"non customers\", \"customers\"]"
   ]
  },
  {
   "cell_type": "code",
   "execution_count": 27,
   "metadata": {},
   "outputs": [],
   "source": [
    "data = data.drop(0)"
   ]
  },
  {
   "cell_type": "code",
   "execution_count": 39,
   "metadata": {},
   "outputs": [],
   "source": [
    "sns.set(font_scale = .2)"
   ]
  },
  {
   "cell_type": "code",
   "execution_count": 49,
   "metadata": {},
   "outputs": [],
   "source": [
    "#loop through the data, create new dataframe for each chain category"
   ]
  },
  {
   "cell_type": "code",
   "execution_count": 58,
   "metadata": {},
   "outputs": [],
   "source": [
    "categories = {}"
   ]
  },
  {
   "cell_type": "code",
   "execution_count": 61,
   "metadata": {},
   "outputs": [],
   "source": [
    "for index, row in data.iterrows():\n",
    "    if row[\"chain category\"] in categories:\n",
    "        categories[row[\"chain category\"]].append(row)\n",
    "    else:\n",
    "        categories[row[\"chain category\"]] = []\n",
    "        categories[row[\"chain category\"]].append(row)\n"
   ]
  },
  {
   "cell_type": "code",
   "execution_count": 64,
   "metadata": {},
   "outputs": [
    {
     "data": {
      "text/plain": [
       "1                           Eating Places\n",
       "2      Drug Stores and Proprietary Stores\n",
       "3                           Eating Places\n",
       "4                           Eating Places\n",
       "5      Drug Stores and Proprietary Stores\n",
       "6                           Eating Places\n",
       "7                           Eating Places\n",
       "8                           Eating Places\n",
       "9                           Eating Places\n",
       "10                          Eating Places\n",
       "11                          Eating Places\n",
       "12                          Eating Places\n",
       "13                          Eating Places\n",
       "14                          Eating Places\n",
       "15                          Eating Places\n",
       "16                          Eating Places\n",
       "17                          Eating Places\n",
       "18                          Eating Places\n",
       "19                        Hardware Stores\n",
       "20     Drug Stores and Proprietary Stores\n",
       "21                          Eating Places\n",
       "22                          Eating Places\n",
       "23                          Eating Places\n",
       "24                          Eating Places\n",
       "25                          Eating Places\n",
       "26                          Eating Places\n",
       "27                          Eating Places\n",
       "28                         Grocery Stores\n",
       "29                          Eating Places\n",
       "30                         Grocery Stores\n",
       "                      ...                \n",
       "239                         Eating Places\n",
       "240                         Eating Places\n",
       "241                         Eating Places\n",
       "242                         Eating Places\n",
       "243                         Eating Places\n",
       "244                         Eating Places\n",
       "245                         Eating Places\n",
       "246                         Eating Places\n",
       "247                         Eating Places\n",
       "248                         Eating Places\n",
       "249                         Eating Places\n",
       "250                         Eating Places\n",
       "251                         Eating Places\n",
       "252                         Eating Places\n",
       "253                         Eating Places\n",
       "254                         Eating Places\n",
       "255                        Grocery Stores\n",
       "256                        Grocery Stores\n",
       "257                        Grocery Stores\n",
       "258                        Grocery Stores\n",
       "259                        Grocery Stores\n",
       "260                        Grocery Stores\n",
       "261                        Grocery Stores\n",
       "262                        Grocery Stores\n",
       "263                        Grocery Stores\n",
       "264                        Grocery Stores\n",
       "265                        Grocery Stores\n",
       "266                        Grocery Stores\n",
       "267                        Grocery Stores\n",
       "268                       Hardware Stores\n",
       "Name: chain category, Length: 268, dtype: object"
      ]
     },
     "execution_count": 64,
     "metadata": {},
     "output_type": "execute_result"
    }
   ],
   "source": [
    "data[\"chain category\"]"
   ]
  },
  {
   "cell_type": "code",
   "execution_count": 76,
   "metadata": {},
   "outputs": [
    {
     "data": {
      "text/plain": [
       "[chain                       ALDI\n",
       " chain category    Grocery Stores\n",
       " non customers               1152\n",
       " customers                   1279\n",
       " Name: 28, dtype: object, chain                     Kroger\n",
       " chain category    Grocery Stores\n",
       " non customers                628\n",
       " customers                   1221\n",
       " Name: 30, dtype: object, chain               Trader Joe's\n",
       " chain category    Grocery Stores\n",
       " non customers                733\n",
       " customers                    640\n",
       " Name: 56, dtype: object, chain             Sprouts Farmers Market\n",
       " chain category            Grocery Stores\n",
       " non customers                        419\n",
       " customers                            581\n",
       " Name: 66, dtype: object, chain             Publix Super Markets\n",
       " chain category          Grocery Stores\n",
       " non customers                      419\n",
       " customers                          465\n",
       " Name: 82, dtype: object, chain             Kinnikinnick Foods\n",
       " chain category        Grocery Stores\n",
       " non customers                    628\n",
       " customers                        465\n",
       " Name: 83, dtype: object, chain                     Ralphs\n",
       " chain category    Grocery Stores\n",
       " non customers                314\n",
       " customers                    407\n",
       " Name: 96, dtype: object, chain                 Albertsons\n",
       " chain category    Grocery Stores\n",
       " non customers                105\n",
       " customers                    349\n",
       " Name: 102, dtype: object, chain             Stater Bros. Markets\n",
       " chain category          Grocery Stores\n",
       " non customers                      105\n",
       " customers                          349\n",
       " Name: 103, dtype: object, chain                WinCo Foods\n",
       " chain category    Grocery Stores\n",
       " non customers                105\n",
       " customers                    291\n",
       " Name: 115, dtype: object, chain                       Wawa\n",
       " chain category    Grocery Stores\n",
       " non customers                419\n",
       " customers                    291\n",
       " Name: 116, dtype: object, chain                      H-E-B\n",
       " chain category    Grocery Stores\n",
       " non customers                314\n",
       " customers                    291\n",
       " Name: 117, dtype: object, chain                       Vons\n",
       " chain category    Grocery Stores\n",
       " non customers                314\n",
       " customers                    233\n",
       " Name: 139, dtype: object, chain                Stop & Shop\n",
       " chain category    Grocery Stores\n",
       " non customers                314\n",
       " customers                    233\n",
       " Name: 140, dtype: object, chain             The Fresh Market\n",
       " chain category      Grocery Stores\n",
       " non customers                  105\n",
       " customers                      233\n",
       " Name: 141, dtype: object, chain                    Safeway\n",
       " chain category    Grocery Stores\n",
       " non customers                209\n",
       " customers                    233\n",
       " Name: 142, dtype: object, chain                  Food Lion\n",
       " chain category    Grocery Stores\n",
       " non customers                209\n",
       " customers                    233\n",
       " Name: 143, dtype: object, chain                 Jewel-Osco\n",
       " chain category    Grocery Stores\n",
       " non customers                105\n",
       " customers                    233\n",
       " Name: 144, dtype: object, chain              Harris Teeter\n",
       " chain category    Grocery Stores\n",
       " non customers                105\n",
       " customers                    233\n",
       " Name: 145, dtype: object, chain              Smart & Final\n",
       " chain category    Grocery Stores\n",
       " non customers                105\n",
       " customers                    233\n",
       " Name: 146, dtype: object, chain             Grocery Outlet\n",
       " chain category    Grocery Stores\n",
       " non customers                105\n",
       " customers                    174\n",
       " Name: 166, dtype: object, chain             Kangaroo Express\n",
       " chain category      Grocery Stores\n",
       " non customers                  209\n",
       " customers                      174\n",
       " Name: 167, dtype: object, chain             99 Ranch Market\n",
       " chain category     Grocery Stores\n",
       " non customers                 105\n",
       " customers                     174\n",
       " Name: 168, dtype: object, chain             Save-A-Lot (Onex)\n",
       " chain category       Grocery Stores\n",
       " non customers                   314\n",
       " customers                       174\n",
       " Name: 169, dtype: object, chain             Casey's General Stores\n",
       " chain category            Grocery Stores\n",
       " non customers                        314\n",
       " customers                            174\n",
       " Name: 170, dtype: object, chain                Turkey Hill\n",
       " chain category    Grocery Stores\n",
       " non customers                105\n",
       " customers                    174\n",
       " Name: 171, dtype: object, chain             SHOP â€™n SAVE Supermarkets\n",
       " chain category                 Grocery Stores\n",
       " non customers                             105\n",
       " customers                                 116\n",
       " Name: 201, dtype: object, chain             Smith's Food & Drug Stores\n",
       " chain category                Grocery Stores\n",
       " non customers                            105\n",
       " customers                                116\n",
       " Name: 202, dtype: object, chain                 Winn Dixie\n",
       " chain category    Grocery Stores\n",
       " non customers                105\n",
       " customers                    116\n",
       " Name: 203, dtype: object, chain             Wegmans Food Markets\n",
       " chain category          Grocery Stores\n",
       " non customers                      314\n",
       " customers                          116\n",
       " Name: 204, dtype: object, chain             Cumberland Farms\n",
       " chain category      Grocery Stores\n",
       " non customers                  105\n",
       " customers                      116\n",
       " Name: 205, dtype: object, chain              Piggly Wiggly\n",
       " chain category    Grocery Stores\n",
       " non customers                105\n",
       " customers                    116\n",
       " Name: 206, dtype: object, chain                  Foods Co.\n",
       " chain category    Grocery Stores\n",
       " non customers                105\n",
       " customers                     58\n",
       " Name: 255, dtype: object, chain             Dominick's Finer Foods\n",
       " chain category            Grocery Stores\n",
       " non customers                        105\n",
       " customers                             58\n",
       " Name: 256, dtype: object, chain             Giant Food Stores\n",
       " chain category       Grocery Stores\n",
       " non customers                   314\n",
       " customers                        58\n",
       " Name: 257, dtype: object, chain                   ShopRite\n",
       " chain category    Grocery Stores\n",
       " non customers                105\n",
       " customers                     58\n",
       " Name: 258, dtype: object, chain             Randall's Food Markets\n",
       " chain category            Grocery Stores\n",
       " non customers                        105\n",
       " customers                             58\n",
       " Name: 259, dtype: object, chain             Cardenas Markets\n",
       " chain category      Grocery Stores\n",
       " non customers                  105\n",
       " customers                       58\n",
       " Name: 260, dtype: object, chain                  Food City\n",
       " chain category    Grocery Stores\n",
       " non customers                105\n",
       " customers                     58\n",
       " Name: 261, dtype: object, chain                     Shaw's\n",
       " chain category    Grocery Stores\n",
       " non customers                105\n",
       " customers                     58\n",
       " Name: 262, dtype: object, chain             Redner's Markets\n",
       " chain category      Grocery Stores\n",
       " non customers                  105\n",
       " customers                       58\n",
       " Name: 263, dtype: object, chain             Gordon Food Service (GFS)\n",
       " chain category               Grocery Stores\n",
       " non customers                           105\n",
       " customers                                58\n",
       " Name: 264, dtype: object, chain               Seafood City\n",
       " chain category    Grocery Stores\n",
       " non customers                209\n",
       " customers                     58\n",
       " Name: 265, dtype: object, chain                  Kwik Trip\n",
       " chain category    Grocery Stores\n",
       " non customers                105\n",
       " customers                     58\n",
       " Name: 266, dtype: object, chain             Hannaford Supermarkets\n",
       " chain category            Grocery Stores\n",
       " non customers                        105\n",
       " customers                             58\n",
       " Name: 267, dtype: object]"
      ]
     },
     "execution_count": 76,
     "metadata": {},
     "output_type": "execute_result"
    }
   ],
   "source": [
    "categories[\"Grocery Stores\"]"
   ]
  },
  {
   "cell_type": "code",
   "execution_count": 68,
   "metadata": {},
   "outputs": [],
   "source": [
    "#count up customers in each category"
   ]
  },
  {
   "cell_type": "code",
   "execution_count": 90,
   "metadata": {},
   "outputs": [
    {
     "name": "stdout",
     "output_type": "stream",
     "text": [
      "Drinking Places (alcoholic Beverages)\n",
      "Eating Places\n",
      "Grocery Stores\n",
      "Department Stores\n",
      "Hardware Stores\n",
      "Drug Stores and Proprietary Stores\n"
     ]
    }
   ],
   "source": [
    "for cat in categories:\n",
    "    print(cat)\n"
   ]
  },
  {
   "cell_type": "code",
   "execution_count": 85,
   "metadata": {},
   "outputs": [
    {
     "name": "stdout",
     "output_type": "stream",
     "text": [
      "Drinking Places (alcoholic Beverages)\n",
      "0.552380952381\n",
      "Eating Places\n",
      "1.14968133974\n",
      "Grocery Stores\n",
      "1.14299594896\n",
      "Department Stores\n",
      "0.799135210188\n",
      "Hardware Stores\n",
      "0.967089002844\n",
      "Drug Stores and Proprietary Stores\n",
      "1.92057782558\n"
     ]
    }
   ],
   "source": [
    "catStats = {}\n",
    "for cat in categories:\n",
    "    print(cat)\n",
    "    sum = 0\n",
    "    for currRow in categories[cat]:\n",
    "        sum += float(currRow[\"customers\"]) / float(currRow[\"non customers\"])\n",
    "    print(sum/len(categories[cat]))\n",
    "    catStats[cat] = sum/len(categories[cat])"
   ]
  },
  {
   "cell_type": "code",
   "execution_count": 86,
   "metadata": {},
   "outputs": [
    {
     "data": {
      "text/plain": [
       "{'Department Stores': 0.7991352101879577,\n",
       " 'Drinking Places (alcoholic Beverages)': 0.5523809523809524,\n",
       " 'Drug Stores and Proprietary Stores': 1.9205778255752293,\n",
       " 'Eating Places': 1.1496813397383745,\n",
       " 'Grocery Stores': 1.1429959489600054,\n",
       " 'Hardware Stores': 0.9670890028442125}"
      ]
     },
     "execution_count": 86,
     "metadata": {},
     "output_type": "execute_result"
    }
   ],
   "source": [
    "catStats"
   ]
  },
  {
   "cell_type": "code",
   "execution_count": 98,
   "metadata": {},
   "outputs": [
    {
     "name": "stdout",
     "output_type": "stream",
     "text": [
      "0.8930869836\n",
      "CVS\n",
      "0.908564814815\n",
      "Walgreens\n",
      "0.849438202247\n",
      "Rite Aid\n",
      "5.00956937799\n",
      "Health Mart\n",
      "6.09523809524\n",
      "Good Neighbor Pharmacy\n",
      "1.29617834395\n",
      "IACP (The International Academy of Compounding Pharmacists)\n",
      "2.21904761905\n",
      "Sav-on Pharmacy\n",
      "1.10476190476\n",
      "The Medicine Shoppe\n",
      "0.277511961722\n",
      "Duane Reade\n",
      "0.552380952381\n",
      "USA Drug\n"
     ]
    }
   ],
   "source": [
    "#calculate ratio for each place within drug stores and prop stores\n",
    "for r in categories[\"Drug Stores and Proprietary Stores\"]:\n",
    "    print r[\"chain\"]\n",
    "    print(float(r[\"customers\"])/ float(r[\"non customers\"]))\n",
    "    "
   ]
  },
  {
   "cell_type": "code",
   "execution_count": null,
   "metadata": {},
   "outputs": [],
   "source": []
  }
 ],
 "metadata": {
  "kernelspec": {
   "display_name": "Python 2",
   "language": "python",
   "name": "python2"
  },
  "language_info": {
   "codemirror_mode": {
    "name": "ipython",
    "version": 2
   },
   "file_extension": ".py",
   "mimetype": "text/x-python",
   "name": "python",
   "nbconvert_exporter": "python",
   "pygments_lexer": "ipython2",
   "version": "2.7.15"
  }
 },
 "nbformat": 4,
 "nbformat_minor": 2
}
